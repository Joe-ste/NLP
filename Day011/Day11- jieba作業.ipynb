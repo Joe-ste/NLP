{
 "cells": [
  {
   "cell_type": "markdown",
   "metadata": {},
   "source": [
    "## 作業目標：運用課程所學，操作字串達到預期輸出"
   ]
  },
  {
   "cell_type": "markdown",
   "metadata": {},
   "source": [
    "* 自行尋找一篇超過100字的文章\n",
    "    * 首先運用結巴斷詞，自行新增字典使得斷詞更為正確\n",
    "    * 使用jieba 完成 PoS Taggin\n",
    "    * 新增的詞也必須賦予詞性"
   ]
  },
  {
   "cell_type": "markdown",
   "metadata": {},
   "source": [
    "---"
   ]
  },
  {
   "cell_type": "code",
   "execution_count": 1,
   "metadata": {},
   "outputs": [],
   "source": [
    "import jieba\n",
    "import jieba.posseg as pseg\n",
    "jieba.set_dictionary('dict.txt')"
   ]
  },
  {
   "cell_type": "markdown",
   "metadata": {},
   "source": [
    "---"
   ]
  },
  {
   "cell_type": "code",
   "execution_count": 2,
   "metadata": {},
   "outputs": [],
   "source": [
    "sentence = '''根據集邦科技（TrendForce）旗下顯示器研究處顯示，受惠於疫情推升宅經濟發酵，包含監視器產品在內的IT產品需求續強，惟監視器面板供給遭其他產品產能排擠、IC短缺嚴重，供需缺口擴大。而受曲面面板需求推升，友達將增加曲面產品產能，預期2021年曲面面板市占將近五成，成曲面面板市場龍頭。而銷售方面，在電競、曲面液晶監視器需求挹注下，預估友達監視器面板市占率可望提升至18％。'''"
   ]
  },
  {
   "cell_type": "code",
   "execution_count": 3,
   "metadata": {},
   "outputs": [
    {
     "name": "stdout",
     "output_type": "stream",
     "text": [
      "這是敘述近年來，AI 應用已無所不在，不論在新創或是傳產領域，都可能透過機器學習解決過去難以解決的問題。但目前台灣企業在 AI 導入的腳步仍然緩慢，除了人才嚴重短缺，教育資源無法即時跟上產業變異也是原因之一。因此，我們發起了「 機器學習 百日馬拉松 」教練陪跑計劃，翻轉傳統上課模式，以自主練習為主，幫助你獲得最大學習成效，搶先一步進入 AI 人工智能領域。\n"
     ]
    }
   ],
   "source": []
  },
  {
   "cell_type": "code",
   "execution_count": 3,
   "metadata": {},
   "outputs": [
    {
     "name": "stderr",
     "output_type": "stream",
     "text": [
      "Building prefix dict from C:\\Users\\JoeZhong\\Documents\\GitHub\\NLP\\Day011\\dict.txt ...\n",
      "Dumping model to file cache C:\\Users\\JoeZhong\\AppData\\Local\\Temp\\jieba.u065c45b3501cbcb0907c392ad5439b9a.cache\n",
      "Loading model cost 0.643 seconds.\n",
      "Prefix dict has been built successfully.\n"
     ]
    },
    {
     "name": "stdout",
     "output_type": "stream",
     "text": [
      "output 精確模式: 根據|集邦|科技|（|TrendForce|）|旗下|顯示器|研究處|顯示|，|受惠|於|疫情|推升|宅|經濟|發酵|，|包含|監視器|產品|在內|的|IT|產品|需求|續強|，|惟|監視器|面板|供給|遭|其|他|產品|產能|排擠|、|IC|短缺|嚴重|，|供需|缺口|擴大|。|而|受|曲面|面板|需求|推升|，|友達|將|增加|曲面|產品|產能|，|預期|2021|年|曲面|面板|市占|將近|五|成|，|成|曲面|面板|市場|龍頭|。|而|銷售|方面|，|在|電競|、|曲面|液晶|監視器|需求|挹注|下|，|預估|友達|監視器|面板|市占率|可望|提升|至|18|％|。\n"
     ]
    }
   ],
   "source": [
    "print(\"output 精確模式: {}\".format('|'.join(jieba.cut(sentence, cut_all=False, HMM=False))))"
   ]
  },
  {
   "cell_type": "markdown",
   "metadata": {},
   "source": [
    "## 新增字典"
   ]
  },
  {
   "cell_type": "code",
   "execution_count": 9,
   "metadata": {},
   "outputs": [],
   "source": [
    "new_words = '集邦科技\\n宅經濟\\n= '\n"
   ]
  },
  {
   "cell_type": "code",
   "execution_count": 11,
   "metadata": {},
   "outputs": [
    {
     "name": "stdout",
     "output_type": "stream",
     "text": [
      "output 精確模式: 這是|敘述|近年|來|，|AI| |應用|已|無所不在|，|不論|在|新創|或是|傳產|領域|，|都|可能|透過|機器學習|解決|過去|難以|解決|的|問題|。|但|目前|台灣|企業|在| |AI| |導入|的|腳步|仍然|緩慢|，|除了|人才|嚴重|短缺|，|教育|資源|無法|即時|跟上|產業|變異|也|是|原因|之|一|。|因此|，|我們|發起|了|「| |機器學習| |百日馬拉松| |」|教練陪跑計劃|，|翻轉|傳統|上課|模式|，|以|自主|練習|為主|，|幫助|你|獲得|最|大|學習|成效|，|搶先|一步|進入| |AI| |人工智能|領域|。\n"
     ]
    }
   ],
   "source": [
    "print(\"output 精確模式: {}\".format('|'.join(jieba.cut(sentence, cut_all=False, HMM=False))))"
   ]
  },
  {
   "cell_type": "markdown",
   "metadata": {},
   "source": [
    "## Taggin"
   ]
  },
  {
   "cell_type": "code",
   "execution_count": 4,
   "metadata": {},
   "outputs": [
    {
     "name": "stdout",
     "output_type": "stream",
     "text": [
      "根據 x\n",
      "集邦 x\n",
      "科技 n\n",
      "（ x\n",
      "TrendForce eng\n",
      "） x\n",
      "旗下 n\n",
      "顯示器 x\n",
      "研究處 x\n",
      "顯示 x\n",
      "， x\n",
      "受惠 v\n",
      "於 nr\n",
      "疫情 n\n",
      "推升 v\n",
      "宅 n\n",
      "經濟 x\n",
      "發酵 x\n",
      "， x\n",
      "包含 v\n",
      "監視器 x\n",
      "產品 x\n",
      "在內 x\n",
      "的 uj\n",
      "IT eng\n",
      "產品 x\n",
      "需求 v\n",
      "續強 x\n",
      "， x\n",
      "惟 b\n",
      "監視器 x\n",
      "面板 n\n",
      "供給 x\n",
      "遭 v\n",
      "其他 r\n",
      "產品 x\n",
      "產能 x\n",
      "排擠 x\n",
      "、 x\n",
      "IC eng\n",
      "短缺 a\n",
      "嚴重 x\n",
      "， x\n",
      "供需 n\n",
      "缺口 n\n",
      "擴大 x\n",
      "。 x\n",
      "而 c\n",
      "受 v\n",
      "曲面 n\n",
      "面板 n\n",
      "需求 v\n",
      "推升 v\n",
      "， x\n",
      "友達 x\n",
      "將 zg\n",
      "增加 v\n",
      "曲面 n\n",
      "產品 x\n",
      "產能 x\n",
      "， x\n",
      "預期 x\n",
      "2021 m\n",
      "年 m\n",
      "曲面 n\n",
      "面板 n\n",
      "市占 x\n",
      "將近 x\n",
      "五成 m\n",
      "， x\n",
      "成 n\n",
      "曲面 n\n",
      "面板 n\n",
      "市場 x\n",
      "龍頭 x\n",
      "。 x\n",
      "而 c\n",
      "銷售 x\n",
      "方面 n\n",
      "， x\n",
      "在 p\n",
      "電競 x\n",
      "、 x\n",
      "曲面 n\n",
      "液晶 n\n",
      "監視器 x\n",
      "需求 v\n",
      "挹注 v\n",
      "下 f\n",
      "， x\n",
      "預估 x\n",
      "友達 x\n",
      "監視器 x\n",
      "面板 n\n",
      "市占率 x\n",
      "可望 v\n",
      "提升 v\n",
      "至 p\n",
      "18 m\n",
      "％ x\n",
      "。 x\n"
     ]
    }
   ],
   "source": [
    "words = pseg.cut(sentence,)\n",
    "for word, flag in words:\n",
    "    print(word, flag)"
   ]
  },
  {
   "cell_type": "code",
   "execution_count": null,
   "metadata": {},
   "outputs": [],
   "source": []
  }
 ],
 "metadata": {
  "kernelspec": {
   "display_name": "Python 3",
   "language": "python",
   "name": "python3"
  },
  "language_info": {
   "codemirror_mode": {
    "name": "ipython",
    "version": 3
   },
   "file_extension": ".py",
   "mimetype": "text/x-python",
   "name": "python",
   "nbconvert_exporter": "python",
   "pygments_lexer": "ipython3",
   "version": "3.7.7"
  }
 },
 "nbformat": 4,
 "nbformat_minor": 2
}
